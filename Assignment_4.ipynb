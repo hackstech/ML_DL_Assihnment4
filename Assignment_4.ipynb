{
 "cells": [
  {
   "cell_type": "markdown",
   "metadata": {},
   "source": [
    "## 1.1 Write a Python Program(with class concepts) to find the area of the triangle using the below formula. area = (s*(s-a)*(s-b)*(s-c)) ** 0.5"
   ]
  },
  {
   "cell_type": "code",
   "execution_count": 28,
   "metadata": {},
   "outputs": [
    {
     "name": "stdout",
     "output_type": "stream",
     "text": [
      "a =8\n",
      "b =9\n",
      "c =7\n",
      "area of traingle is 26.832815729997478\n"
     ]
    }
   ],
   "source": [
    "class Class:\n",
    "    def __init__(self,a,b,c):\n",
    "        self.a=a\n",
    "        self.b=b\n",
    "        self.c=c\n",
    "class Subclass:\n",
    "    def area(self):\n",
    "        s=(self.a+self.b+self.c)/2\n",
    "        return float((s*(s-self.a)*(s-self.b)*(s-self.c))**0.5)\n",
    "a,b,c=float(input(\"a =\")),float(input(\"b =\")),float(input(\"c =\"))\n",
    "t=triangle(a,b,c)\n",
    "print('area of traingle is',t.area())"
   ]
  },
  {
   "cell_type": "code",
   "execution_count": null,
   "metadata": {},
   "outputs": [],
   "source": []
  },
  {
   "cell_type": "markdown",
   "metadata": {},
   "source": [
    "## 1.2 Write a function filter_long_words() that takes a list of words and an integer n and returns the list of words that are longer than n."
   ]
  },
  {
   "cell_type": "code",
   "execution_count": 72,
   "metadata": {},
   "outputs": [
    {
     "name": "stdout",
     "output_type": "stream",
     "text": [
      "word lengths in array => <map object at 0x0000017C6D0B51C0>\n"
     ]
    }
   ],
   "source": [
    "\n",
    "list = [\"care\", \"is\", \"better\", \"precaution\"]\n",
    "\n",
    "def wordlen(wordlist):\n",
    " return (map(lambda x: len(x), list))\n",
    "\n",
    "print (\"word lengths in array => \" + str(wordlen(list)))"
   ]
  },
  {
   "cell_type": "markdown",
   "metadata": {},
   "source": [
    "## 2.1 Write a Python program using function concept that maps list of words into a list of integers representing the lengths of the corresponding words."
   ]
  },
  {
   "cell_type": "code",
   "execution_count": 78,
   "metadata": {},
   "outputs": [
    {
     "name": "stdout",
     "output_type": "stream",
     "text": [
      "Listofwords:['why', 'is', 'the', 'list', 'given']\n",
      "Listofints:[3, 2, 3, 4, 5]\n"
     ]
    }
   ],
   "source": [
    "listofwords=['why','is','the','list','given']\n",
    "listofints=[]\n",
    "for i in range(len(listofwords)):\n",
    "    listofints.append(len(listofwords[i]))\n",
    "print(\"Listofwords:\"+str(listofwords))\n",
    "print(\"Listofints:\"+str(listofints))"
   ]
  },
  {
   "cell_type": "markdown",
   "metadata": {},
   "source": [
    "## 2.2 Write a Python function which takes a character (i.e. a string of length 1) and returns True if it is a vowel, False otherwise."
   ]
  },
  {
   "cell_type": "code",
   "execution_count": 74,
   "metadata": {},
   "outputs": [
    {
     "name": "stdout",
     "output_type": "stream",
     "text": [
      "6\n",
      "['e', 'e', 'e', 'i', 'e', 'a']\n"
     ]
    }
   ],
   "source": [
    "def Check_Vowel(string, vowels): \n",
    "    final = [each for each in string if each in vowels] \n",
    "    print(len(final)) \n",
    "    print(final) \n",
    "      \n",
    "# Driver Code \n",
    "string = \"mercedes is german\"\n",
    "vowels = \"aeiou\"\n",
    "Check_Vowel(string, vowels); \n"
   ]
  },
  {
   "cell_type": "code",
   "execution_count": null,
   "metadata": {},
   "outputs": [],
   "source": []
  }
 ],
 "metadata": {
  "kernelspec": {
   "display_name": "Python 3",
   "language": "python",
   "name": "python3"
  },
  "language_info": {
   "codemirror_mode": {
    "name": "ipython",
    "version": 3
   },
   "file_extension": ".py",
   "mimetype": "text/x-python",
   "name": "python",
   "nbconvert_exporter": "python",
   "pygments_lexer": "ipython3",
   "version": "3.8.5"
  }
 },
 "nbformat": 4,
 "nbformat_minor": 4
}
